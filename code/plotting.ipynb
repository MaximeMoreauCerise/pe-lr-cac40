{
 "cells": [
  {
   "cell_type": "code",
   "execution_count": 2,
   "metadata": {},
   "outputs": [
    {
     "ename": "ModuleNotFoundError",
     "evalue": "No module named 'Class'",
     "output_type": "error",
     "traceback": [
      "\u001b[0;31m---------------------------------------------------------------------------\u001b[0m",
      "\u001b[0;31mModuleNotFoundError\u001b[0m                       Traceback (most recent call last)",
      "Cell \u001b[0;32mIn[2], line 1\u001b[0m\n\u001b[0;32m----> 1\u001b[0m \u001b[39mfrom\u001b[39;00m \u001b[39mClass\u001b[39;00m \u001b[39mimport\u001b[39;00m \u001b[39m*\u001b[39m\n\u001b[1;32m      2\u001b[0m \u001b[39mimport\u001b[39;00m \u001b[39mplotly\u001b[39;00m\u001b[39m.\u001b[39;00m\u001b[39mexpress\u001b[39;00m \u001b[39mas\u001b[39;00m \u001b[39mpx\u001b[39;00m\n\u001b[1;32m      3\u001b[0m \u001b[39mimport\u001b[39;00m \u001b[39mpandas\u001b[39;00m \u001b[39mas\u001b[39;00m \u001b[39mpd\u001b[39;00m\n",
      "\u001b[0;31mModuleNotFoundError\u001b[0m: No module named 'Class'"
     ]
    }
   ],
   "source": [
    "from Class import *\n",
    "import plotly.express as px\n",
    "import pandas as pd"
   ]
  },
  {
   "attachments": {},
   "cell_type": "markdown",
   "metadata": {},
   "source": [
    "Régression linéaire"
   ]
  },
  {
   "cell_type": "code",
   "execution_count": 1,
   "metadata": {},
   "outputs": [
    {
     "ename": "NameError",
     "evalue": "name 'pd' is not defined",
     "output_type": "error",
     "traceback": [
      "\u001b[0;31m---------------------------------------------------------------------------\u001b[0m",
      "\u001b[0;31mNameError\u001b[0m                                 Traceback (most recent call last)",
      "Cell \u001b[0;32mIn[1], line 1\u001b[0m\n\u001b[0;32m----> 1\u001b[0m df \u001b[39m=\u001b[39m pd\u001b[39m.\u001b[39mread_csv(\u001b[39m\"\u001b[39m\u001b[39m/Users/maximemoreau/Desktop/pr-regression-linéaire/Data_CAC40/dataframe_BNP.PA.csv\u001b[39m\u001b[39m\"\u001b[39m)\n\u001b[1;32m      2\u001b[0m df\u001b[39m.\u001b[39mhead()\n",
      "\u001b[0;31mNameError\u001b[0m: name 'pd' is not defined"
     ]
    }
   ],
   "source": [
    "df = pd.read_csv(\"/Users/maximemoreau/Desktop/pr-regression-linéaire/Data_CAC40/dataframe_BNP.PA.csv\")\n",
    "df.head()"
   ]
  },
  {
   "cell_type": "code",
   "execution_count": 148,
   "metadata": {},
   "outputs": [],
   "source": [
    "X = np.arange(1400).reshape(1400,1) #Temps en jours\n",
    "Y = df['Close'].head(1400).to_numpy().reshape(1400,1)\n",
    "\n",
    "model = LinearRegression() #Type de régression\n",
    "model.fit(X,Y) # Régression\n",
    "\n",
    "Y_pred = model.predict(X) #Prédiction"
   ]
  },
  {
   "cell_type": "code",
   "execution_count": 151,
   "metadata": {},
   "outputs": [],
   "source": [
    "# Visualisation :\n",
    "a = []\n",
    "b = []\n",
    "c = []\n",
    "m = []\n",
    "s = []\n",
    "r = model.predict(np.arange(len(df)).reshape(len(df),1))\n",
    "\n",
    "for i in range(1400):\n",
    "    a.append(X[i][0])\n",
    "    b.append(Y[i][0])\n",
    "    c.append(Y_pred[i][0])\n",
    "\n",
    "for i in range(len(r)):\n",
    "    s.append(r[i][0])\n",
    "\n",
    "fig = px.line()\n",
    "fig.add_scatter( x = a, y = b, marker_color = px.colors.qualitative.G10[0], name = \"Données d'apprentissage\")\n",
    "fig.add_scatter(x = np.arange(1400,len(df)), y = df.tail(len(df)-1400)['Close'], marker_color = px.colors.qualitative.G10[4], name= \"Ce que l'on souhaite prédire\")\n",
    "fig.add_scatter(x = np.arange(len(df)), y = s , marker_color = px.colors.qualitative.G10[6], line_width = 6, name='Régression')\n",
    "fig.update_layout(title = \"Modèle de régression linéaire appliqué au cours de la BNP Paribas\",width = 1400, height = 720, xaxis_title = \"Temps (en jours)\",yaxis_title = \"Valeur en €\")\n",
    "fig.write_image(\"lr-plot-bnp.png\", engine = \"kaleido\", scale = 3)\n"
   ]
  },
  {
   "cell_type": "code",
   "execution_count": null,
   "metadata": {},
   "outputs": [],
   "source": []
  }
 ],
 "metadata": {
  "kernelspec": {
   "display_name": "base",
   "language": "python",
   "name": "python3"
  },
  "language_info": {
   "codemirror_mode": {
    "name": "ipython",
    "version": 3
   },
   "file_extension": ".py",
   "mimetype": "text/x-python",
   "name": "python",
   "nbconvert_exporter": "python",
   "pygments_lexer": "ipython3",
   "version": "3.11.2"
  },
  "orig_nbformat": 4
 },
 "nbformat": 4,
 "nbformat_minor": 2
}
